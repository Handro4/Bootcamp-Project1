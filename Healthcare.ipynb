{
 "cells": [
  {
   "cell_type": "markdown",
   "id": "77bf4428",
   "metadata": {},
   "source": [
    "# Healthcare Analysis\n",
    "\n"
   ]
  },
  {
   "cell_type": "code",
   "execution_count": 1,
   "id": "4cc53468",
   "metadata": {},
   "outputs": [
    {
     "data": {
      "text/html": [
       "<div>\n",
       "<style scoped>\n",
       "    .dataframe tbody tr th:only-of-type {\n",
       "        vertical-align: middle;\n",
       "    }\n",
       "\n",
       "    .dataframe tbody tr th {\n",
       "        vertical-align: top;\n",
       "    }\n",
       "\n",
       "    .dataframe thead th {\n",
       "        text-align: right;\n",
       "    }\n",
       "</style>\n",
       "<table border=\"1\" class=\"dataframe\">\n",
       "  <thead>\n",
       "    <tr style=\"text-align: right;\">\n",
       "      <th></th>\n",
       "      <th>Name</th>\n",
       "      <th>Age</th>\n",
       "      <th>Gender</th>\n",
       "      <th>Blood Type</th>\n",
       "      <th>Medical Condition</th>\n",
       "      <th>Date of Admission</th>\n",
       "      <th>Doctor</th>\n",
       "      <th>Hospital</th>\n",
       "      <th>Insurance Provider</th>\n",
       "      <th>Billing Amount</th>\n",
       "      <th>Room Number</th>\n",
       "      <th>Admission Type</th>\n",
       "      <th>Discharge Date</th>\n",
       "      <th>Medication</th>\n",
       "      <th>Test Results</th>\n",
       "    </tr>\n",
       "  </thead>\n",
       "  <tbody>\n",
       "    <tr>\n",
       "      <th>0</th>\n",
       "      <td>Aaron Burnett</td>\n",
       "      <td>54</td>\n",
       "      <td>Female</td>\n",
       "      <td>A-</td>\n",
       "      <td>Obesity</td>\n",
       "      <td>6/3/21</td>\n",
       "      <td>Samantha Mitchell MD</td>\n",
       "      <td>Reynolds LLC</td>\n",
       "      <td>UnitedHealthcare</td>\n",
       "      <td>7531.642746</td>\n",
       "      <td>470</td>\n",
       "      <td>Emergency</td>\n",
       "      <td>6/19/21</td>\n",
       "      <td>Penicillin</td>\n",
       "      <td>Abnormal</td>\n",
       "    </tr>\n",
       "    <tr>\n",
       "      <th>1</th>\n",
       "      <td>Aaron Calderon</td>\n",
       "      <td>35</td>\n",
       "      <td>Female</td>\n",
       "      <td>AB+</td>\n",
       "      <td>Diabetes</td>\n",
       "      <td>5/12/23</td>\n",
       "      <td>Christina Johnson</td>\n",
       "      <td>Mata-Vega</td>\n",
       "      <td>Cigna</td>\n",
       "      <td>47555.486730</td>\n",
       "      <td>285</td>\n",
       "      <td>Elective</td>\n",
       "      <td>6/3/23</td>\n",
       "      <td>Paracetamol</td>\n",
       "      <td>Abnormal</td>\n",
       "    </tr>\n",
       "    <tr>\n",
       "      <th>2</th>\n",
       "      <td>Aaron Coleman</td>\n",
       "      <td>69</td>\n",
       "      <td>Male</td>\n",
       "      <td>A+</td>\n",
       "      <td>Cancer</td>\n",
       "      <td>9/17/19</td>\n",
       "      <td>Bill Mcdonald</td>\n",
       "      <td>Petersen, Haynes and Rowe</td>\n",
       "      <td>Cigna</td>\n",
       "      <td>46762.663210</td>\n",
       "      <td>239</td>\n",
       "      <td>Emergency</td>\n",
       "      <td>10/10/19</td>\n",
       "      <td>Lipitor</td>\n",
       "      <td>Abnormal</td>\n",
       "    </tr>\n",
       "    <tr>\n",
       "      <th>3</th>\n",
       "      <td>Aaron Daugherty</td>\n",
       "      <td>34</td>\n",
       "      <td>Male</td>\n",
       "      <td>B+</td>\n",
       "      <td>Diabetes</td>\n",
       "      <td>4/9/22</td>\n",
       "      <td>Christopher Jones</td>\n",
       "      <td>Silva, Thompson and Austin</td>\n",
       "      <td>Aetna</td>\n",
       "      <td>30468.487110</td>\n",
       "      <td>243</td>\n",
       "      <td>Elective</td>\n",
       "      <td>5/8/22</td>\n",
       "      <td>Aspirin</td>\n",
       "      <td>Inconclusive</td>\n",
       "    </tr>\n",
       "    <tr>\n",
       "      <th>4</th>\n",
       "      <td>Aaron Davis</td>\n",
       "      <td>22</td>\n",
       "      <td>Female</td>\n",
       "      <td>AB-</td>\n",
       "      <td>Arthritis</td>\n",
       "      <td>6/28/19</td>\n",
       "      <td>Tyler Thomas</td>\n",
       "      <td>Lee-Clark</td>\n",
       "      <td>UnitedHealthcare</td>\n",
       "      <td>17930.743020</td>\n",
       "      <td>351</td>\n",
       "      <td>Urgent</td>\n",
       "      <td>7/13/19</td>\n",
       "      <td>Paracetamol</td>\n",
       "      <td>Abnormal</td>\n",
       "    </tr>\n",
       "  </tbody>\n",
       "</table>\n",
       "</div>"
      ],
      "text/plain": [
       "              Name  Age  Gender Blood Type Medical Condition  \\\n",
       "0    Aaron Burnett   54  Female         A-           Obesity   \n",
       "1   Aaron Calderon   35  Female        AB+          Diabetes   \n",
       "2    Aaron Coleman   69    Male         A+            Cancer   \n",
       "3  Aaron Daugherty   34    Male         B+          Diabetes   \n",
       "4      Aaron Davis   22  Female        AB-         Arthritis   \n",
       "\n",
       "  Date of Admission                Doctor                    Hospital  \\\n",
       "0            6/3/21  Samantha Mitchell MD                Reynolds LLC   \n",
       "1           5/12/23     Christina Johnson                   Mata-Vega   \n",
       "2           9/17/19         Bill Mcdonald   Petersen, Haynes and Rowe   \n",
       "3            4/9/22     Christopher Jones  Silva, Thompson and Austin   \n",
       "4           6/28/19          Tyler Thomas                   Lee-Clark   \n",
       "\n",
       "  Insurance Provider  Billing Amount  Room Number Admission Type  \\\n",
       "0   UnitedHealthcare     7531.642746          470      Emergency   \n",
       "1              Cigna    47555.486730          285       Elective   \n",
       "2              Cigna    46762.663210          239      Emergency   \n",
       "3              Aetna    30468.487110          243       Elective   \n",
       "4   UnitedHealthcare    17930.743020          351         Urgent   \n",
       "\n",
       "  Discharge Date   Medication  Test Results  \n",
       "0        6/19/21   Penicillin      Abnormal  \n",
       "1         6/3/23  Paracetamol      Abnormal  \n",
       "2       10/10/19      Lipitor      Abnormal  \n",
       "3         5/8/22      Aspirin  Inconclusive  \n",
       "4        7/13/19  Paracetamol      Abnormal  "
      ]
     },
     "execution_count": 1,
     "metadata": {},
     "output_type": "execute_result"
    }
   ],
   "source": [
    "# Dependencies and Setup\n",
    "import matplotlib.pyplot as plt\n",
    "import pandas as pd\n",
    "import scipy.stats as st\n",
    "from scipy.stats import linregress\n",
    "import numpy as np\n",
    "import seaborn as sns\n",
    "\n",
    "# Path files\n",
    "metadata_path = \"Data/healthcare_dataset.csv\"\n",
    "\n",
    "# Read the data\n",
    "metadata = pd.read_csv(metadata_path)\n",
    "\n",
    "# Display the data table for preview\n",
    "metadata.head()"
   ]
  },
  {
   "cell_type": "code",
   "execution_count": 2,
   "id": "82d336b3",
   "metadata": {},
   "outputs": [
    {
     "data": {
      "text/plain": [
       "Name                   object\n",
       "Age                     int64\n",
       "Gender                 object\n",
       "Blood Type             object\n",
       "Medical Condition      object\n",
       "Date of Admission      object\n",
       "Doctor                 object\n",
       "Hospital               object\n",
       "Insurance Provider     object\n",
       "Billing Amount        float64\n",
       "Room Number             int64\n",
       "Admission Type         object\n",
       "Discharge Date         object\n",
       "Medication             object\n",
       "Test Results           object\n",
       "dtype: object"
      ]
     },
     "execution_count": 2,
     "metadata": {},
     "output_type": "execute_result"
    }
   ],
   "source": [
    "#Column data type info\n",
    "metadata.dtypes"
   ]
  },
  {
   "cell_type": "code",
   "execution_count": 3,
   "id": "3bc0a8a1",
   "metadata": {},
   "outputs": [
    {
     "name": "stdout",
     "output_type": "stream",
     "text": [
      "Patient Count Unique\n",
      "9378\n",
      "List of Unique Medical Conditions:\n",
      "['Obesity' 'Diabetes' 'Cancer' 'Arthritis' 'Asthma' 'Hypertension']\n",
      "\n",
      "Count of Each Medical Condition:\n",
      "Medical Condition\n",
      "Asthma          1708\n",
      "Cancer          1703\n",
      "Hypertension    1688\n",
      "Arthritis       1650\n",
      "Obesity         1628\n",
      "Diabetes        1623\n",
      "Name: count, dtype: int64\n"
     ]
    }
   ],
   "source": [
    "# Patient count unique\n",
    "patient_count = metadata[\"Name\"].nunique()\n",
    "\n",
    "# Get a list of unique medical conditions\n",
    "medical_conditions_list = metadata['Medical Condition'].unique()\n",
    "\n",
    "# Get the count of each medical condition\n",
    "medical_conditions_count = metadata['Medical Condition'].value_counts()\n",
    "\n",
    "# Display the results\n",
    "print(\"Patient Count Unique\")\n",
    "print(patient_count)\n",
    "      \n",
    "print(\"List of Unique Medical Conditions:\")\n",
    "print(medical_conditions_list)\n",
    "\n",
    "print(\"Count of Each Medical Condition:\")\n",
    "print(medical_conditions_count)"
   ]
  },
  {
   "cell_type": "code",
   "execution_count": 4,
   "id": "42631523",
   "metadata": {},
   "outputs": [
    {
     "name": "stdout",
     "output_type": "stream",
     "text": [
      "Gender\n",
      "Female    $25,484\n",
      "Male      $25,550\n",
      "Name: Billing Amount, dtype: object\n"
     ]
    }
   ],
   "source": [
    "#Filter data based on Gender and Billing Amount\n",
    "gender_billing_data = metadata[['Gender', 'Billing Amount']]\n",
    "\n",
    "# Group the data by 'Gender' and 'Billing Amount', then calculate the mean billing amount by\n",
    "# Gender, rounded to nearest dollar.\n",
    "mean_gender_amount = gender_billing_data.groupby('Gender').mean()\n",
    "mean_gender_amount = mean_gender_amount['Billing Amount'].apply(lambda x: '${:,.0f}'.format(round(x)))\n",
    "print(mean_gender_amount)"
   ]
  },
  {
   "cell_type": "code",
   "execution_count": 5,
   "id": "f2ffdb93",
   "metadata": {},
   "outputs": [
    {
     "name": "stdout",
     "output_type": "stream",
     "text": [
      "                          Billing Amount\n",
      "Insurance Provider Gender               \n",
      "Aetna              Female        $25,335\n",
      "                   Male          $26,341\n",
      "Blue Cross         Female        $26,178\n",
      "                   Male          $25,158\n",
      "Cigna              Female        $25,724\n",
      "                   Male          $25,588\n",
      "Medicare           Female        $25,008\n",
      "                   Male          $24,996\n",
      "UnitedHealthcare   Female        $25,200\n",
      "                   Male          $25,617\n"
     ]
    }
   ],
   "source": [
    "#Filter data based on Gender and Billing Amount grouped by Insurance Provider\n",
    "insurance_gender_data = metadata[['Insurance Provider', 'Gender', 'Billing Amount']]\n",
    "\n",
    "#Group the data by 'Billing Amount' and 'Gender', then calculate the mean billing amount, rounded to nearest dollar.\n",
    "mean_insurance_gender = insurance_gender_data.groupby(['Insurance Provider', 'Gender']).mean()\n",
    "mean_insurance_gender['Billing Amount'] = mean_insurance_gender['Billing Amount'].apply(lambda x: '${:,.0f}'.format(round(x)))\n",
    "\n",
    "print(mean_insurance_gender)"
   ]
  },
  {
   "cell_type": "code",
   "execution_count": 6,
   "id": "80722b30",
   "metadata": {},
   "outputs": [
    {
     "data": {
      "text/plain": [
       "<matplotlib.legend.Legend at 0x1736d4110>"
      ]
     },
     "execution_count": 6,
     "metadata": {},
     "output_type": "execute_result"
    },
    {
     "data": {
      "image/png": "[encoded data removed]",
      "text/plain": [
       "<Figure size 640x480 with 1 Axes>"
      ]
     },
     "metadata": {},
     "output_type": "display_data"
    }
   ],
   "source": [
    "#Undo $ for billing amount to chart\n",
    "mean_insurance_gender['Billing Amount'] = mean_insurance_gender['Billing Amount'].replace('[\\$,]', '', regex=True).astype(float)\n",
    "\n",
    "#Create barchart for comparison of Insurance Providers Billing Amount by Gender \n",
    "mean_insurance_gender['Billing Amount'].unstack().plot(kind='bar')\n",
    "\n",
    "# Add labels and title\n",
    "plt.xlabel('Insurance Provider')\n",
    "plt.xticks(rotation=45, ha='right')\n",
    "plt.ylabel('Mean Billing Amount')\n",
    "plt.title('Mean Billing Amount by Insurance Provider and Gender')\n",
    "plt.legend(title='Gender', bbox_to_anchor=(1.25, 1), loc='upper right')"
   ]
  },
  {
   "cell_type": "code",
   "execution_count": 8,
   "id": "eb0aa5e9",
   "metadata": {},
   "outputs": [
    {
     "name": "stdout",
     "output_type": "stream",
     "text": [
      "   Medical Condition Insurance Provider  Billing Amount\n",
      "0          Arthritis              Aetna    24694.858132\n",
      "1          Arthritis         Blue Cross    25989.515740\n",
      "2          Arthritis              Cigna    25189.873894\n",
      "3          Arthritis           Medicare    24206.381013\n",
      "4          Arthritis   UnitedHealthcare    25704.428629\n",
      "5             Asthma              Aetna    24761.515983\n",
      "6             Asthma         Blue Cross    25701.560294\n",
      "7             Asthma              Cigna    26604.203083\n",
      "8             Asthma           Medicare    25820.568227\n",
      "9             Asthma   UnitedHealthcare    24198.125815\n",
      "10            Cancer              Aetna    26333.940941\n",
      "11            Cancer         Blue Cross    24382.770930\n",
      "12            Cancer              Cigna    26437.599998\n",
      "13            Cancer           Medicare    25118.720557\n",
      "14            Cancer   UnitedHealthcare    25222.992960\n",
      "15          Diabetes              Aetna    26703.077342\n",
      "16          Diabetes         Blue Cross    26599.036888\n",
      "17          Diabetes              Cigna    25496.295520\n",
      "18          Diabetes           Medicare    25468.553655\n",
      "19          Diabetes   UnitedHealthcare    26003.702541\n",
      "20      Hypertension              Aetna    26420.830930\n",
      "21      Hypertension         Blue Cross    26614.290980\n",
      "22      Hypertension              Cigna    24146.228564\n",
      "23      Hypertension           Medicare    24164.166294\n",
      "24      Hypertension   UnitedHealthcare    24708.016084\n",
      "25           Obesity              Aetna    26109.230890\n",
      "26           Obesity         Blue Cross    24576.703308\n",
      "27           Obesity              Cigna    26130.314831\n",
      "28           Obesity           Medicare    25259.825969\n",
      "29           Obesity   UnitedHealthcare    26586.298042\n"
     ]
    }
   ],
   "source": [
    "# Filter data based on Medical Condition and Billing Amount for Medical Condition grouped by Insurance Provider\n",
    "mean_billing_by_condition = metadata.groupby(['Medical Condition', 'Insurance Provider'])['Billing Amount'].mean()\n",
    "\n",
    "# Group the data by 'Medical Condition' and 'Insurance', then calculate the mean billing amount\n",
    "mean_billing_by_condition = mean_billing_by_condition.reset_index()\n",
    "\n",
    "print(mean_billing_by_condition)"
   ]
  },
  {
   "cell_type": "code",
   "execution_count": null,
   "id": "a8b05068",
   "metadata": {},
   "outputs": [],
   "source": []
  }
 ],
 "metadata": {
  "kernelspec": {
   "display_name": "Python 3 (ipykernel)",
   "language": "python",
   "name": "python3"
  },
  "language_info": {
   "codemirror_mode": {
    "name": "ipython",
    "version": 3
   },
   "file_extension": ".py",
   "mimetype": "text/x-python",
   "name": "python",
   "nbconvert_exporter": "python",
   "pygments_lexer": "ipython3",
   "version": "3.11.5"
  }
 },
 "nbformat": 4,
 "nbformat_minor": 5
}
